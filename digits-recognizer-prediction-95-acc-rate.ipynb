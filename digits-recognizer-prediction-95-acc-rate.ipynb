{
 "cells": [
  {
   "cell_type": "markdown",
   "id": "1aafde2c",
   "metadata": {
    "papermill": {
     "duration": 0.006758,
     "end_time": "2025-02-01T15:25:08.024156",
     "exception": false,
     "start_time": "2025-02-01T15:25:08.017398",
     "status": "completed"
    },
    "tags": []
   },
   "source": [
    "<div style=\"border: 2px solid #4CAF50; padding: 10px; border-radius: 10px; background-color: #e8f5e9; text-align: center; font-size: 18px;\">\n",
    "    🎯 <b>Don't Forget to Upvote!</b> 🚀 <br>\n",
    "    ❤️ Your support keeps me motivated! 🎉\n",
    "</div>\n"
   ]
  },
  {
   "cell_type": "code",
   "execution_count": 1,
   "id": "c951e4bd",
   "metadata": {
    "_cell_guid": "219d4455-141f-4a78-985c-8c1017d8f4a9",
    "_uuid": "9b4b9c38-faa8-41bf-b16a-cdd22cd3abc4",
    "collapsed": false,
    "execution": {
     "iopub.execute_input": "2025-02-01T15:25:08.035772Z",
     "iopub.status.busy": "2025-02-01T15:25:08.035534Z",
     "iopub.status.idle": "2025-02-01T15:25:11.550381Z",
     "shell.execute_reply": "2025-02-01T15:25:11.549486Z"
    },
    "jupyter": {
     "outputs_hidden": false
    },
    "papermill": {
     "duration": 3.522091,
     "end_time": "2025-02-01T15:25:11.552029",
     "exception": false,
     "start_time": "2025-02-01T15:25:08.029938",
     "status": "completed"
    },
    "tags": []
   },
   "outputs": [],
   "source": [
    "import pandas as pd\n",
    "import numpy as np\n",
    "import seaborn as sns\n",
    "import matplotlib.pyplot as plt\n",
    "import random\n",
    "import warnings\n",
    "warnings.filterwarnings(\"ignore\")"
   ]
  },
  {
   "cell_type": "markdown",
   "id": "bc023295",
   "metadata": {
    "papermill": {
     "duration": 0.004768,
     "end_time": "2025-02-01T15:25:11.562081",
     "exception": false,
     "start_time": "2025-02-01T15:25:11.557313",
     "status": "completed"
    },
    "tags": []
   },
   "source": [
    "## Data adjustment"
   ]
  },
  {
   "cell_type": "code",
   "execution_count": 2,
   "id": "203260a8",
   "metadata": {
    "_cell_guid": "57108e9b-2499-45ed-8b37-d10257dd3dff",
    "_uuid": "b48050d8-0df9-4f6e-8d79-e1ccd080a600",
    "execution": {
     "iopub.execute_input": "2025-02-01T15:25:11.572689Z",
     "iopub.status.busy": "2025-02-01T15:25:11.572371Z",
     "iopub.status.idle": "2025-02-01T15:25:15.966103Z",
     "shell.execute_reply": "2025-02-01T15:25:15.965385Z"
    },
    "papermill": {
     "duration": 4.400959,
     "end_time": "2025-02-01T15:25:15.967876",
     "exception": false,
     "start_time": "2025-02-01T15:25:11.566917",
     "status": "completed"
    },
    "tags": []
   },
   "outputs": [
    {
     "ename": "FileNotFoundError",
     "evalue": "[Errno 2] No such file or directory: '/kaggle/input/digit-recognizer/train.csv'",
     "output_type": "error",
     "traceback": [
      "\u001b[1;31m---------------------------------------------------------------------------\u001b[0m",
      "\u001b[1;31mFileNotFoundError\u001b[0m                         Traceback (most recent call last)",
      "Cell \u001b[1;32mIn[2], line 1\u001b[0m\n\u001b[1;32m----> 1\u001b[0m train \u001b[38;5;241m=\u001b[39m \u001b[43mpd\u001b[49m\u001b[38;5;241;43m.\u001b[39;49m\u001b[43mread_csv\u001b[49m\u001b[43m(\u001b[49m\u001b[38;5;124;43m\"\u001b[39;49m\u001b[38;5;124;43m/kaggle/input/digit-recognizer/train.csv\u001b[39;49m\u001b[38;5;124;43m\"\u001b[39;49m\u001b[43m)\u001b[49m\n\u001b[0;32m      2\u001b[0m test \u001b[38;5;241m=\u001b[39m pd\u001b[38;5;241m.\u001b[39mread_csv(\u001b[38;5;124m\"\u001b[39m\u001b[38;5;124m/kaggle/input/digit-recognizer/test.csv\u001b[39m\u001b[38;5;124m\"\u001b[39m)\n",
      "File \u001b[1;32mc:\\Users\\Alper\\AppData\\Local\\Programs\\Python\\Python312\\Lib\\site-packages\\pandas\\io\\parsers\\readers.py:1026\u001b[0m, in \u001b[0;36mread_csv\u001b[1;34m(filepath_or_buffer, sep, delimiter, header, names, index_col, usecols, dtype, engine, converters, true_values, false_values, skipinitialspace, skiprows, skipfooter, nrows, na_values, keep_default_na, na_filter, verbose, skip_blank_lines, parse_dates, infer_datetime_format, keep_date_col, date_parser, date_format, dayfirst, cache_dates, iterator, chunksize, compression, thousands, decimal, lineterminator, quotechar, quoting, doublequote, escapechar, comment, encoding, encoding_errors, dialect, on_bad_lines, delim_whitespace, low_memory, memory_map, float_precision, storage_options, dtype_backend)\u001b[0m\n\u001b[0;32m   1013\u001b[0m kwds_defaults \u001b[38;5;241m=\u001b[39m _refine_defaults_read(\n\u001b[0;32m   1014\u001b[0m     dialect,\n\u001b[0;32m   1015\u001b[0m     delimiter,\n\u001b[1;32m   (...)\u001b[0m\n\u001b[0;32m   1022\u001b[0m     dtype_backend\u001b[38;5;241m=\u001b[39mdtype_backend,\n\u001b[0;32m   1023\u001b[0m )\n\u001b[0;32m   1024\u001b[0m kwds\u001b[38;5;241m.\u001b[39mupdate(kwds_defaults)\n\u001b[1;32m-> 1026\u001b[0m \u001b[38;5;28;01mreturn\u001b[39;00m \u001b[43m_read\u001b[49m\u001b[43m(\u001b[49m\u001b[43mfilepath_or_buffer\u001b[49m\u001b[43m,\u001b[49m\u001b[43m \u001b[49m\u001b[43mkwds\u001b[49m\u001b[43m)\u001b[49m\n",
      "File \u001b[1;32mc:\\Users\\Alper\\AppData\\Local\\Programs\\Python\\Python312\\Lib\\site-packages\\pandas\\io\\parsers\\readers.py:620\u001b[0m, in \u001b[0;36m_read\u001b[1;34m(filepath_or_buffer, kwds)\u001b[0m\n\u001b[0;32m    617\u001b[0m _validate_names(kwds\u001b[38;5;241m.\u001b[39mget(\u001b[38;5;124m\"\u001b[39m\u001b[38;5;124mnames\u001b[39m\u001b[38;5;124m\"\u001b[39m, \u001b[38;5;28;01mNone\u001b[39;00m))\n\u001b[0;32m    619\u001b[0m \u001b[38;5;66;03m# Create the parser.\u001b[39;00m\n\u001b[1;32m--> 620\u001b[0m parser \u001b[38;5;241m=\u001b[39m \u001b[43mTextFileReader\u001b[49m\u001b[43m(\u001b[49m\u001b[43mfilepath_or_buffer\u001b[49m\u001b[43m,\u001b[49m\u001b[43m \u001b[49m\u001b[38;5;241;43m*\u001b[39;49m\u001b[38;5;241;43m*\u001b[39;49m\u001b[43mkwds\u001b[49m\u001b[43m)\u001b[49m\n\u001b[0;32m    622\u001b[0m \u001b[38;5;28;01mif\u001b[39;00m chunksize \u001b[38;5;129;01mor\u001b[39;00m iterator:\n\u001b[0;32m    623\u001b[0m     \u001b[38;5;28;01mreturn\u001b[39;00m parser\n",
      "File \u001b[1;32mc:\\Users\\Alper\\AppData\\Local\\Programs\\Python\\Python312\\Lib\\site-packages\\pandas\\io\\parsers\\readers.py:1620\u001b[0m, in \u001b[0;36mTextFileReader.__init__\u001b[1;34m(self, f, engine, **kwds)\u001b[0m\n\u001b[0;32m   1617\u001b[0m     \u001b[38;5;28mself\u001b[39m\u001b[38;5;241m.\u001b[39moptions[\u001b[38;5;124m\"\u001b[39m\u001b[38;5;124mhas_index_names\u001b[39m\u001b[38;5;124m\"\u001b[39m] \u001b[38;5;241m=\u001b[39m kwds[\u001b[38;5;124m\"\u001b[39m\u001b[38;5;124mhas_index_names\u001b[39m\u001b[38;5;124m\"\u001b[39m]\n\u001b[0;32m   1619\u001b[0m \u001b[38;5;28mself\u001b[39m\u001b[38;5;241m.\u001b[39mhandles: IOHandles \u001b[38;5;241m|\u001b[39m \u001b[38;5;28;01mNone\u001b[39;00m \u001b[38;5;241m=\u001b[39m \u001b[38;5;28;01mNone\u001b[39;00m\n\u001b[1;32m-> 1620\u001b[0m \u001b[38;5;28mself\u001b[39m\u001b[38;5;241m.\u001b[39m_engine \u001b[38;5;241m=\u001b[39m \u001b[38;5;28;43mself\u001b[39;49m\u001b[38;5;241;43m.\u001b[39;49m\u001b[43m_make_engine\u001b[49m\u001b[43m(\u001b[49m\u001b[43mf\u001b[49m\u001b[43m,\u001b[49m\u001b[43m \u001b[49m\u001b[38;5;28;43mself\u001b[39;49m\u001b[38;5;241;43m.\u001b[39;49m\u001b[43mengine\u001b[49m\u001b[43m)\u001b[49m\n",
      "File \u001b[1;32mc:\\Users\\Alper\\AppData\\Local\\Programs\\Python\\Python312\\Lib\\site-packages\\pandas\\io\\parsers\\readers.py:1880\u001b[0m, in \u001b[0;36mTextFileReader._make_engine\u001b[1;34m(self, f, engine)\u001b[0m\n\u001b[0;32m   1878\u001b[0m     \u001b[38;5;28;01mif\u001b[39;00m \u001b[38;5;124m\"\u001b[39m\u001b[38;5;124mb\u001b[39m\u001b[38;5;124m\"\u001b[39m \u001b[38;5;129;01mnot\u001b[39;00m \u001b[38;5;129;01min\u001b[39;00m mode:\n\u001b[0;32m   1879\u001b[0m         mode \u001b[38;5;241m+\u001b[39m\u001b[38;5;241m=\u001b[39m \u001b[38;5;124m\"\u001b[39m\u001b[38;5;124mb\u001b[39m\u001b[38;5;124m\"\u001b[39m\n\u001b[1;32m-> 1880\u001b[0m \u001b[38;5;28mself\u001b[39m\u001b[38;5;241m.\u001b[39mhandles \u001b[38;5;241m=\u001b[39m \u001b[43mget_handle\u001b[49m\u001b[43m(\u001b[49m\n\u001b[0;32m   1881\u001b[0m \u001b[43m    \u001b[49m\u001b[43mf\u001b[49m\u001b[43m,\u001b[49m\n\u001b[0;32m   1882\u001b[0m \u001b[43m    \u001b[49m\u001b[43mmode\u001b[49m\u001b[43m,\u001b[49m\n\u001b[0;32m   1883\u001b[0m \u001b[43m    \u001b[49m\u001b[43mencoding\u001b[49m\u001b[38;5;241;43m=\u001b[39;49m\u001b[38;5;28;43mself\u001b[39;49m\u001b[38;5;241;43m.\u001b[39;49m\u001b[43moptions\u001b[49m\u001b[38;5;241;43m.\u001b[39;49m\u001b[43mget\u001b[49m\u001b[43m(\u001b[49m\u001b[38;5;124;43m\"\u001b[39;49m\u001b[38;5;124;43mencoding\u001b[39;49m\u001b[38;5;124;43m\"\u001b[39;49m\u001b[43m,\u001b[49m\u001b[43m \u001b[49m\u001b[38;5;28;43;01mNone\u001b[39;49;00m\u001b[43m)\u001b[49m\u001b[43m,\u001b[49m\n\u001b[0;32m   1884\u001b[0m \u001b[43m    \u001b[49m\u001b[43mcompression\u001b[49m\u001b[38;5;241;43m=\u001b[39;49m\u001b[38;5;28;43mself\u001b[39;49m\u001b[38;5;241;43m.\u001b[39;49m\u001b[43moptions\u001b[49m\u001b[38;5;241;43m.\u001b[39;49m\u001b[43mget\u001b[49m\u001b[43m(\u001b[49m\u001b[38;5;124;43m\"\u001b[39;49m\u001b[38;5;124;43mcompression\u001b[39;49m\u001b[38;5;124;43m\"\u001b[39;49m\u001b[43m,\u001b[49m\u001b[43m \u001b[49m\u001b[38;5;28;43;01mNone\u001b[39;49;00m\u001b[43m)\u001b[49m\u001b[43m,\u001b[49m\n\u001b[0;32m   1885\u001b[0m \u001b[43m    \u001b[49m\u001b[43mmemory_map\u001b[49m\u001b[38;5;241;43m=\u001b[39;49m\u001b[38;5;28;43mself\u001b[39;49m\u001b[38;5;241;43m.\u001b[39;49m\u001b[43moptions\u001b[49m\u001b[38;5;241;43m.\u001b[39;49m\u001b[43mget\u001b[49m\u001b[43m(\u001b[49m\u001b[38;5;124;43m\"\u001b[39;49m\u001b[38;5;124;43mmemory_map\u001b[39;49m\u001b[38;5;124;43m\"\u001b[39;49m\u001b[43m,\u001b[49m\u001b[43m \u001b[49m\u001b[38;5;28;43;01mFalse\u001b[39;49;00m\u001b[43m)\u001b[49m\u001b[43m,\u001b[49m\n\u001b[0;32m   1886\u001b[0m \u001b[43m    \u001b[49m\u001b[43mis_text\u001b[49m\u001b[38;5;241;43m=\u001b[39;49m\u001b[43mis_text\u001b[49m\u001b[43m,\u001b[49m\n\u001b[0;32m   1887\u001b[0m \u001b[43m    \u001b[49m\u001b[43merrors\u001b[49m\u001b[38;5;241;43m=\u001b[39;49m\u001b[38;5;28;43mself\u001b[39;49m\u001b[38;5;241;43m.\u001b[39;49m\u001b[43moptions\u001b[49m\u001b[38;5;241;43m.\u001b[39;49m\u001b[43mget\u001b[49m\u001b[43m(\u001b[49m\u001b[38;5;124;43m\"\u001b[39;49m\u001b[38;5;124;43mencoding_errors\u001b[39;49m\u001b[38;5;124;43m\"\u001b[39;49m\u001b[43m,\u001b[49m\u001b[43m \u001b[49m\u001b[38;5;124;43m\"\u001b[39;49m\u001b[38;5;124;43mstrict\u001b[39;49m\u001b[38;5;124;43m\"\u001b[39;49m\u001b[43m)\u001b[49m\u001b[43m,\u001b[49m\n\u001b[0;32m   1888\u001b[0m \u001b[43m    \u001b[49m\u001b[43mstorage_options\u001b[49m\u001b[38;5;241;43m=\u001b[39;49m\u001b[38;5;28;43mself\u001b[39;49m\u001b[38;5;241;43m.\u001b[39;49m\u001b[43moptions\u001b[49m\u001b[38;5;241;43m.\u001b[39;49m\u001b[43mget\u001b[49m\u001b[43m(\u001b[49m\u001b[38;5;124;43m\"\u001b[39;49m\u001b[38;5;124;43mstorage_options\u001b[39;49m\u001b[38;5;124;43m\"\u001b[39;49m\u001b[43m,\u001b[49m\u001b[43m \u001b[49m\u001b[38;5;28;43;01mNone\u001b[39;49;00m\u001b[43m)\u001b[49m\u001b[43m,\u001b[49m\n\u001b[0;32m   1889\u001b[0m \u001b[43m\u001b[49m\u001b[43m)\u001b[49m\n\u001b[0;32m   1890\u001b[0m \u001b[38;5;28;01massert\u001b[39;00m \u001b[38;5;28mself\u001b[39m\u001b[38;5;241m.\u001b[39mhandles \u001b[38;5;129;01mis\u001b[39;00m \u001b[38;5;129;01mnot\u001b[39;00m \u001b[38;5;28;01mNone\u001b[39;00m\n\u001b[0;32m   1891\u001b[0m f \u001b[38;5;241m=\u001b[39m \u001b[38;5;28mself\u001b[39m\u001b[38;5;241m.\u001b[39mhandles\u001b[38;5;241m.\u001b[39mhandle\n",
      "File \u001b[1;32mc:\\Users\\Alper\\AppData\\Local\\Programs\\Python\\Python312\\Lib\\site-packages\\pandas\\io\\common.py:873\u001b[0m, in \u001b[0;36mget_handle\u001b[1;34m(path_or_buf, mode, encoding, compression, memory_map, is_text, errors, storage_options)\u001b[0m\n\u001b[0;32m    868\u001b[0m \u001b[38;5;28;01melif\u001b[39;00m \u001b[38;5;28misinstance\u001b[39m(handle, \u001b[38;5;28mstr\u001b[39m):\n\u001b[0;32m    869\u001b[0m     \u001b[38;5;66;03m# Check whether the filename is to be opened in binary mode.\u001b[39;00m\n\u001b[0;32m    870\u001b[0m     \u001b[38;5;66;03m# Binary mode does not support 'encoding' and 'newline'.\u001b[39;00m\n\u001b[0;32m    871\u001b[0m     \u001b[38;5;28;01mif\u001b[39;00m ioargs\u001b[38;5;241m.\u001b[39mencoding \u001b[38;5;129;01mand\u001b[39;00m \u001b[38;5;124m\"\u001b[39m\u001b[38;5;124mb\u001b[39m\u001b[38;5;124m\"\u001b[39m \u001b[38;5;129;01mnot\u001b[39;00m \u001b[38;5;129;01min\u001b[39;00m ioargs\u001b[38;5;241m.\u001b[39mmode:\n\u001b[0;32m    872\u001b[0m         \u001b[38;5;66;03m# Encoding\u001b[39;00m\n\u001b[1;32m--> 873\u001b[0m         handle \u001b[38;5;241m=\u001b[39m \u001b[38;5;28;43mopen\u001b[39;49m\u001b[43m(\u001b[49m\n\u001b[0;32m    874\u001b[0m \u001b[43m            \u001b[49m\u001b[43mhandle\u001b[49m\u001b[43m,\u001b[49m\n\u001b[0;32m    875\u001b[0m \u001b[43m            \u001b[49m\u001b[43mioargs\u001b[49m\u001b[38;5;241;43m.\u001b[39;49m\u001b[43mmode\u001b[49m\u001b[43m,\u001b[49m\n\u001b[0;32m    876\u001b[0m \u001b[43m            \u001b[49m\u001b[43mencoding\u001b[49m\u001b[38;5;241;43m=\u001b[39;49m\u001b[43mioargs\u001b[49m\u001b[38;5;241;43m.\u001b[39;49m\u001b[43mencoding\u001b[49m\u001b[43m,\u001b[49m\n\u001b[0;32m    877\u001b[0m \u001b[43m            \u001b[49m\u001b[43merrors\u001b[49m\u001b[38;5;241;43m=\u001b[39;49m\u001b[43merrors\u001b[49m\u001b[43m,\u001b[49m\n\u001b[0;32m    878\u001b[0m \u001b[43m            \u001b[49m\u001b[43mnewline\u001b[49m\u001b[38;5;241;43m=\u001b[39;49m\u001b[38;5;124;43m\"\u001b[39;49m\u001b[38;5;124;43m\"\u001b[39;49m\u001b[43m,\u001b[49m\n\u001b[0;32m    879\u001b[0m \u001b[43m        \u001b[49m\u001b[43m)\u001b[49m\n\u001b[0;32m    880\u001b[0m     \u001b[38;5;28;01melse\u001b[39;00m:\n\u001b[0;32m    881\u001b[0m         \u001b[38;5;66;03m# Binary mode\u001b[39;00m\n\u001b[0;32m    882\u001b[0m         handle \u001b[38;5;241m=\u001b[39m \u001b[38;5;28mopen\u001b[39m(handle, ioargs\u001b[38;5;241m.\u001b[39mmode)\n",
      "\u001b[1;31mFileNotFoundError\u001b[0m: [Errno 2] No such file or directory: '/kaggle/input/digit-recognizer/train.csv'"
     ]
    }
   ],
   "source": [
    "train = pd.read_csv(\"/kaggle/input/digit-recognizer/train.csv\")\n",
    "test = pd.read_csv(\"/kaggle/input/digit-recognizer/test.csv\")"
   ]
  },
  {
   "cell_type": "code",
   "execution_count": null,
   "id": "2c908538",
   "metadata": {
    "_cell_guid": "8a79863b-6e5e-422f-8157-c9fe92f072c5",
    "_uuid": "04438c0b-c732-41a9-acfc-003e93ab9a8b",
    "collapsed": false,
    "execution": {
     "iopub.execute_input": "2025-02-01T15:25:15.980448Z",
     "iopub.status.busy": "2025-02-01T15:25:15.980147Z",
     "iopub.status.idle": "2025-02-01T15:25:16.012770Z",
     "shell.execute_reply": "2025-02-01T15:25:16.011798Z"
    },
    "jupyter": {
     "outputs_hidden": false
    },
    "papermill": {
     "duration": 0.040551,
     "end_time": "2025-02-01T15:25:16.014411",
     "exception": false,
     "start_time": "2025-02-01T15:25:15.973860",
     "status": "completed"
    },
    "tags": []
   },
   "outputs": [
    {
     "data": {
      "text/html": [
       "<div>\n",
       "<style scoped>\n",
       "    .dataframe tbody tr th:only-of-type {\n",
       "        vertical-align: middle;\n",
       "    }\n",
       "\n",
       "    .dataframe tbody tr th {\n",
       "        vertical-align: top;\n",
       "    }\n",
       "\n",
       "    .dataframe thead th {\n",
       "        text-align: right;\n",
       "    }\n",
       "</style>\n",
       "<table border=\"1\" class=\"dataframe\">\n",
       "  <thead>\n",
       "    <tr style=\"text-align: right;\">\n",
       "      <th></th>\n",
       "      <th>label</th>\n",
       "      <th>pixel0</th>\n",
       "      <th>pixel1</th>\n",
       "      <th>pixel2</th>\n",
       "      <th>pixel3</th>\n",
       "      <th>pixel4</th>\n",
       "      <th>pixel5</th>\n",
       "      <th>pixel6</th>\n",
       "      <th>pixel7</th>\n",
       "      <th>pixel8</th>\n",
       "      <th>...</th>\n",
       "      <th>pixel774</th>\n",
       "      <th>pixel775</th>\n",
       "      <th>pixel776</th>\n",
       "      <th>pixel777</th>\n",
       "      <th>pixel778</th>\n",
       "      <th>pixel779</th>\n",
       "      <th>pixel780</th>\n",
       "      <th>pixel781</th>\n",
       "      <th>pixel782</th>\n",
       "      <th>pixel783</th>\n",
       "    </tr>\n",
       "  </thead>\n",
       "  <tbody>\n",
       "    <tr>\n",
       "      <th>0</th>\n",
       "      <td>1</td>\n",
       "      <td>0</td>\n",
       "      <td>0</td>\n",
       "      <td>0</td>\n",
       "      <td>0</td>\n",
       "      <td>0</td>\n",
       "      <td>0</td>\n",
       "      <td>0</td>\n",
       "      <td>0</td>\n",
       "      <td>0</td>\n",
       "      <td>...</td>\n",
       "      <td>0</td>\n",
       "      <td>0</td>\n",
       "      <td>0</td>\n",
       "      <td>0</td>\n",
       "      <td>0</td>\n",
       "      <td>0</td>\n",
       "      <td>0</td>\n",
       "      <td>0</td>\n",
       "      <td>0</td>\n",
       "      <td>0</td>\n",
       "    </tr>\n",
       "    <tr>\n",
       "      <th>1</th>\n",
       "      <td>0</td>\n",
       "      <td>0</td>\n",
       "      <td>0</td>\n",
       "      <td>0</td>\n",
       "      <td>0</td>\n",
       "      <td>0</td>\n",
       "      <td>0</td>\n",
       "      <td>0</td>\n",
       "      <td>0</td>\n",
       "      <td>0</td>\n",
       "      <td>...</td>\n",
       "      <td>0</td>\n",
       "      <td>0</td>\n",
       "      <td>0</td>\n",
       "      <td>0</td>\n",
       "      <td>0</td>\n",
       "      <td>0</td>\n",
       "      <td>0</td>\n",
       "      <td>0</td>\n",
       "      <td>0</td>\n",
       "      <td>0</td>\n",
       "    </tr>\n",
       "    <tr>\n",
       "      <th>2</th>\n",
       "      <td>1</td>\n",
       "      <td>0</td>\n",
       "      <td>0</td>\n",
       "      <td>0</td>\n",
       "      <td>0</td>\n",
       "      <td>0</td>\n",
       "      <td>0</td>\n",
       "      <td>0</td>\n",
       "      <td>0</td>\n",
       "      <td>0</td>\n",
       "      <td>...</td>\n",
       "      <td>0</td>\n",
       "      <td>0</td>\n",
       "      <td>0</td>\n",
       "      <td>0</td>\n",
       "      <td>0</td>\n",
       "      <td>0</td>\n",
       "      <td>0</td>\n",
       "      <td>0</td>\n",
       "      <td>0</td>\n",
       "      <td>0</td>\n",
       "    </tr>\n",
       "    <tr>\n",
       "      <th>3</th>\n",
       "      <td>4</td>\n",
       "      <td>0</td>\n",
       "      <td>0</td>\n",
       "      <td>0</td>\n",
       "      <td>0</td>\n",
       "      <td>0</td>\n",
       "      <td>0</td>\n",
       "      <td>0</td>\n",
       "      <td>0</td>\n",
       "      <td>0</td>\n",
       "      <td>...</td>\n",
       "      <td>0</td>\n",
       "      <td>0</td>\n",
       "      <td>0</td>\n",
       "      <td>0</td>\n",
       "      <td>0</td>\n",
       "      <td>0</td>\n",
       "      <td>0</td>\n",
       "      <td>0</td>\n",
       "      <td>0</td>\n",
       "      <td>0</td>\n",
       "    </tr>\n",
       "    <tr>\n",
       "      <th>4</th>\n",
       "      <td>0</td>\n",
       "      <td>0</td>\n",
       "      <td>0</td>\n",
       "      <td>0</td>\n",
       "      <td>0</td>\n",
       "      <td>0</td>\n",
       "      <td>0</td>\n",
       "      <td>0</td>\n",
       "      <td>0</td>\n",
       "      <td>0</td>\n",
       "      <td>...</td>\n",
       "      <td>0</td>\n",
       "      <td>0</td>\n",
       "      <td>0</td>\n",
       "      <td>0</td>\n",
       "      <td>0</td>\n",
       "      <td>0</td>\n",
       "      <td>0</td>\n",
       "      <td>0</td>\n",
       "      <td>0</td>\n",
       "      <td>0</td>\n",
       "    </tr>\n",
       "  </tbody>\n",
       "</table>\n",
       "<p>5 rows × 785 columns</p>\n",
       "</div>"
      ],
      "text/plain": [
       "   label  pixel0  pixel1  pixel2  pixel3  pixel4  pixel5  pixel6  pixel7  \\\n",
       "0      1       0       0       0       0       0       0       0       0   \n",
       "1      0       0       0       0       0       0       0       0       0   \n",
       "2      1       0       0       0       0       0       0       0       0   \n",
       "3      4       0       0       0       0       0       0       0       0   \n",
       "4      0       0       0       0       0       0       0       0       0   \n",
       "\n",
       "   pixel8  ...  pixel774  pixel775  pixel776  pixel777  pixel778  pixel779  \\\n",
       "0       0  ...         0         0         0         0         0         0   \n",
       "1       0  ...         0         0         0         0         0         0   \n",
       "2       0  ...         0         0         0         0         0         0   \n",
       "3       0  ...         0         0         0         0         0         0   \n",
       "4       0  ...         0         0         0         0         0         0   \n",
       "\n",
       "   pixel780  pixel781  pixel782  pixel783  \n",
       "0         0         0         0         0  \n",
       "1         0         0         0         0  \n",
       "2         0         0         0         0  \n",
       "3         0         0         0         0  \n",
       "4         0         0         0         0  \n",
       "\n",
       "[5 rows x 785 columns]"
      ]
     },
     "execution_count": 3,
     "metadata": {},
     "output_type": "execute_result"
    }
   ],
   "source": [
    "train.head()"
   ]
  },
  {
   "cell_type": "code",
   "execution_count": null,
   "id": "ba6bd4c1",
   "metadata": {
    "_cell_guid": "0f8aff16-7bd9-4fa1-9f3f-33571061432b",
    "_uuid": "5a648765-a3db-4ce8-91fc-59dae74e8683",
    "collapsed": false,
    "execution": {
     "iopub.execute_input": "2025-02-01T15:25:16.027911Z",
     "iopub.status.busy": "2025-02-01T15:25:16.027678Z",
     "iopub.status.idle": "2025-02-01T15:25:16.040438Z",
     "shell.execute_reply": "2025-02-01T15:25:16.039627Z"
    },
    "jupyter": {
     "outputs_hidden": false
    },
    "papermill": {
     "duration": 0.020688,
     "end_time": "2025-02-01T15:25:16.041841",
     "exception": false,
     "start_time": "2025-02-01T15:25:16.021153",
     "status": "completed"
    },
    "tags": []
   },
   "outputs": [
    {
     "data": {
      "text/html": [
       "<div>\n",
       "<style scoped>\n",
       "    .dataframe tbody tr th:only-of-type {\n",
       "        vertical-align: middle;\n",
       "    }\n",
       "\n",
       "    .dataframe tbody tr th {\n",
       "        vertical-align: top;\n",
       "    }\n",
       "\n",
       "    .dataframe thead th {\n",
       "        text-align: right;\n",
       "    }\n",
       "</style>\n",
       "<table border=\"1\" class=\"dataframe\">\n",
       "  <thead>\n",
       "    <tr style=\"text-align: right;\">\n",
       "      <th></th>\n",
       "      <th>pixel0</th>\n",
       "      <th>pixel1</th>\n",
       "      <th>pixel2</th>\n",
       "      <th>pixel3</th>\n",
       "      <th>pixel4</th>\n",
       "      <th>pixel5</th>\n",
       "      <th>pixel6</th>\n",
       "      <th>pixel7</th>\n",
       "      <th>pixel8</th>\n",
       "      <th>pixel9</th>\n",
       "      <th>...</th>\n",
       "      <th>pixel774</th>\n",
       "      <th>pixel775</th>\n",
       "      <th>pixel776</th>\n",
       "      <th>pixel777</th>\n",
       "      <th>pixel778</th>\n",
       "      <th>pixel779</th>\n",
       "      <th>pixel780</th>\n",
       "      <th>pixel781</th>\n",
       "      <th>pixel782</th>\n",
       "      <th>pixel783</th>\n",
       "    </tr>\n",
       "  </thead>\n",
       "  <tbody>\n",
       "    <tr>\n",
       "      <th>0</th>\n",
       "      <td>0</td>\n",
       "      <td>0</td>\n",
       "      <td>0</td>\n",
       "      <td>0</td>\n",
       "      <td>0</td>\n",
       "      <td>0</td>\n",
       "      <td>0</td>\n",
       "      <td>0</td>\n",
       "      <td>0</td>\n",
       "      <td>0</td>\n",
       "      <td>...</td>\n",
       "      <td>0</td>\n",
       "      <td>0</td>\n",
       "      <td>0</td>\n",
       "      <td>0</td>\n",
       "      <td>0</td>\n",
       "      <td>0</td>\n",
       "      <td>0</td>\n",
       "      <td>0</td>\n",
       "      <td>0</td>\n",
       "      <td>0</td>\n",
       "    </tr>\n",
       "    <tr>\n",
       "      <th>1</th>\n",
       "      <td>0</td>\n",
       "      <td>0</td>\n",
       "      <td>0</td>\n",
       "      <td>0</td>\n",
       "      <td>0</td>\n",
       "      <td>0</td>\n",
       "      <td>0</td>\n",
       "      <td>0</td>\n",
       "      <td>0</td>\n",
       "      <td>0</td>\n",
       "      <td>...</td>\n",
       "      <td>0</td>\n",
       "      <td>0</td>\n",
       "      <td>0</td>\n",
       "      <td>0</td>\n",
       "      <td>0</td>\n",
       "      <td>0</td>\n",
       "      <td>0</td>\n",
       "      <td>0</td>\n",
       "      <td>0</td>\n",
       "      <td>0</td>\n",
       "    </tr>\n",
       "    <tr>\n",
       "      <th>2</th>\n",
       "      <td>0</td>\n",
       "      <td>0</td>\n",
       "      <td>0</td>\n",
       "      <td>0</td>\n",
       "      <td>0</td>\n",
       "      <td>0</td>\n",
       "      <td>0</td>\n",
       "      <td>0</td>\n",
       "      <td>0</td>\n",
       "      <td>0</td>\n",
       "      <td>...</td>\n",
       "      <td>0</td>\n",
       "      <td>0</td>\n",
       "      <td>0</td>\n",
       "      <td>0</td>\n",
       "      <td>0</td>\n",
       "      <td>0</td>\n",
       "      <td>0</td>\n",
       "      <td>0</td>\n",
       "      <td>0</td>\n",
       "      <td>0</td>\n",
       "    </tr>\n",
       "    <tr>\n",
       "      <th>3</th>\n",
       "      <td>0</td>\n",
       "      <td>0</td>\n",
       "      <td>0</td>\n",
       "      <td>0</td>\n",
       "      <td>0</td>\n",
       "      <td>0</td>\n",
       "      <td>0</td>\n",
       "      <td>0</td>\n",
       "      <td>0</td>\n",
       "      <td>0</td>\n",
       "      <td>...</td>\n",
       "      <td>0</td>\n",
       "      <td>0</td>\n",
       "      <td>0</td>\n",
       "      <td>0</td>\n",
       "      <td>0</td>\n",
       "      <td>0</td>\n",
       "      <td>0</td>\n",
       "      <td>0</td>\n",
       "      <td>0</td>\n",
       "      <td>0</td>\n",
       "    </tr>\n",
       "    <tr>\n",
       "      <th>4</th>\n",
       "      <td>0</td>\n",
       "      <td>0</td>\n",
       "      <td>0</td>\n",
       "      <td>0</td>\n",
       "      <td>0</td>\n",
       "      <td>0</td>\n",
       "      <td>0</td>\n",
       "      <td>0</td>\n",
       "      <td>0</td>\n",
       "      <td>0</td>\n",
       "      <td>...</td>\n",
       "      <td>0</td>\n",
       "      <td>0</td>\n",
       "      <td>0</td>\n",
       "      <td>0</td>\n",
       "      <td>0</td>\n",
       "      <td>0</td>\n",
       "      <td>0</td>\n",
       "      <td>0</td>\n",
       "      <td>0</td>\n",
       "      <td>0</td>\n",
       "    </tr>\n",
       "  </tbody>\n",
       "</table>\n",
       "<p>5 rows × 784 columns</p>\n",
       "</div>"
      ],
      "text/plain": [
       "   pixel0  pixel1  pixel2  pixel3  pixel4  pixel5  pixel6  pixel7  pixel8  \\\n",
       "0       0       0       0       0       0       0       0       0       0   \n",
       "1       0       0       0       0       0       0       0       0       0   \n",
       "2       0       0       0       0       0       0       0       0       0   \n",
       "3       0       0       0       0       0       0       0       0       0   \n",
       "4       0       0       0       0       0       0       0       0       0   \n",
       "\n",
       "   pixel9  ...  pixel774  pixel775  pixel776  pixel777  pixel778  pixel779  \\\n",
       "0       0  ...         0         0         0         0         0         0   \n",
       "1       0  ...         0         0         0         0         0         0   \n",
       "2       0  ...         0         0         0         0         0         0   \n",
       "3       0  ...         0         0         0         0         0         0   \n",
       "4       0  ...         0         0         0         0         0         0   \n",
       "\n",
       "   pixel780  pixel781  pixel782  pixel783  \n",
       "0         0         0         0         0  \n",
       "1         0         0         0         0  \n",
       "2         0         0         0         0  \n",
       "3         0         0         0         0  \n",
       "4         0         0         0         0  \n",
       "\n",
       "[5 rows x 784 columns]"
      ]
     },
     "execution_count": 4,
     "metadata": {},
     "output_type": "execute_result"
    }
   ],
   "source": [
    "test.head()"
   ]
  },
  {
   "cell_type": "code",
   "execution_count": null,
   "id": "6d70f339",
   "metadata": {
    "_cell_guid": "b95ae665-1983-4a95-977d-92be635c1a9b",
    "_uuid": "fe56d896-f8cf-47b7-aa1c-6cadf2b1b534",
    "collapsed": false,
    "execution": {
     "iopub.execute_input": "2025-02-01T15:25:16.056010Z",
     "iopub.status.busy": "2025-02-01T15:25:16.055777Z",
     "iopub.status.idle": "2025-02-01T15:25:16.141894Z",
     "shell.execute_reply": "2025-02-01T15:25:16.141170Z"
    },
    "jupyter": {
     "outputs_hidden": false
    },
    "papermill": {
     "duration": 0.094617,
     "end_time": "2025-02-01T15:25:16.143487",
     "exception": false,
     "start_time": "2025-02-01T15:25:16.048870",
     "status": "completed"
    },
    "tags": []
   },
   "outputs": [],
   "source": [
    "y_train = train[\"label\"]\n",
    "x_train = train.drop(\"label\" , axis = 1)"
   ]
  },
  {
   "cell_type": "code",
   "execution_count": null,
   "id": "a2e3b86b",
   "metadata": {
    "_cell_guid": "e2d087d8-0f6d-4ab2-b443-7987860c7c8a",
    "_uuid": "40fee788-c4dc-40ea-ac1d-4b679342eb21",
    "collapsed": false,
    "execution": {
     "iopub.execute_input": "2025-02-01T15:25:16.156268Z",
     "iopub.status.busy": "2025-02-01T15:25:16.155985Z",
     "iopub.status.idle": "2025-02-01T15:25:16.447462Z",
     "shell.execute_reply": "2025-02-01T15:25:16.446623Z"
    },
    "jupyter": {
     "outputs_hidden": false
    },
    "papermill": {
     "duration": 0.299159,
     "end_time": "2025-02-01T15:25:16.448717",
     "exception": false,
     "start_time": "2025-02-01T15:25:16.149558",
     "status": "completed"
    },
    "tags": []
   },
   "outputs": [
    {
     "data": {
      "image/png": "[encoded data removed]",
      "text/plain": [
       "<Figure size 640x480 with 1 Axes>"
      ]
     },
     "metadata": {},
     "output_type": "display_data"
    }
   ],
   "source": [
    "#Count of different numbers\n",
    "sns.countplot(x = y_train.values , palette = \"muted\")\n",
    "plt.title(\"Count of different numbers\")\n",
    "plt.show()"
   ]
  },
  {
   "cell_type": "code",
   "execution_count": null,
   "id": "ac71146c",
   "metadata": {
    "_cell_guid": "a6a12042-118d-4ce1-ab3f-2174d747be8f",
    "_uuid": "b98c5b09-fb15-42de-aa61-60c381e10a4c",
    "collapsed": false,
    "execution": {
     "iopub.execute_input": "2025-02-01T15:25:16.461982Z",
     "iopub.status.busy": "2025-02-01T15:25:16.461740Z",
     "iopub.status.idle": "2025-02-01T15:25:16.690840Z",
     "shell.execute_reply": "2025-02-01T15:25:16.689951Z"
    },
    "jupyter": {
     "outputs_hidden": false
    },
    "papermill": {
     "duration": 0.236999,
     "end_time": "2025-02-01T15:25:16.692175",
     "exception": false,
     "start_time": "2025-02-01T15:25:16.455176",
     "status": "completed"
    },
    "tags": []
   },
   "outputs": [
    {
     "data": {
      "image/png": "[encoded data removed]",
      "text/plain": [
       "<Figure size 640x480 with 9 Axes>"
      ]
     },
     "metadata": {},
     "output_type": "display_data"
    }
   ],
   "source": [
    "#some images\n",
    "j=1\n",
    "for i in range(0,9):\n",
    "    plt.subplot(3,3,j)\n",
    "    number = random.randint(0,x_train.shape[0])\n",
    "    array = x_train.iloc[number].values.reshape(28,28)\n",
    "    plt.imshow(array, cmap = \"gray\" )\n",
    "    plt.xlabel(y_train[number])\n",
    "    plt.axis(\"off\")\n",
    "    j+=1"
   ]
  },
  {
   "cell_type": "code",
   "execution_count": null,
   "id": "43fc8e84",
   "metadata": {
    "_cell_guid": "b0419721-c2ba-48a4-8eba-7b1de5643966",
    "_uuid": "fcd6a043-123a-48ba-9bcc-41dd63797d11",
    "collapsed": false,
    "execution": {
     "iopub.execute_input": "2025-02-01T15:25:16.705568Z",
     "iopub.status.busy": "2025-02-01T15:25:16.705309Z",
     "iopub.status.idle": "2025-02-01T15:25:33.944271Z",
     "shell.execute_reply": "2025-02-01T15:25:33.943553Z"
    },
    "jupyter": {
     "outputs_hidden": false
    },
    "papermill": {
     "duration": 17.246945,
     "end_time": "2025-02-01T15:25:33.945757",
     "exception": false,
     "start_time": "2025-02-01T15:25:16.698812",
     "status": "completed"
    },
    "tags": []
   },
   "outputs": [],
   "source": [
    "#label encoding for softmax activation\n",
    "from keras.utils import to_categorical\n",
    "y_train = to_categorical(y_train , num_classes = 10)"
   ]
  },
  {
   "cell_type": "code",
   "execution_count": null,
   "id": "12a6593c",
   "metadata": {
    "_cell_guid": "6b415063-563c-46ff-b040-e4f0a92a0c9a",
    "_uuid": "9d97b113-7548-4c72-abf7-e45a0e47a80a",
    "collapsed": false,
    "execution": {
     "iopub.execute_input": "2025-02-01T15:25:33.959214Z",
     "iopub.status.busy": "2025-02-01T15:25:33.958736Z",
     "iopub.status.idle": "2025-02-01T15:25:34.077203Z",
     "shell.execute_reply": "2025-02-01T15:25:34.076470Z"
    },
    "jupyter": {
     "outputs_hidden": false
    },
    "papermill": {
     "duration": 0.126477,
     "end_time": "2025-02-01T15:25:34.078720",
     "exception": false,
     "start_time": "2025-02-01T15:25:33.952243",
     "status": "completed"
    },
    "tags": []
   },
   "outputs": [],
   "source": [
    "#normalization\n",
    "x_train = x_train/255\n",
    "test = test/255"
   ]
  },
  {
   "cell_type": "markdown",
   "id": "98548259",
   "metadata": {
    "_cell_guid": "af2d3422-7260-4710-a181-e2710f193c84",
    "_uuid": "023cbc73-6ecb-4ea8-8d97-0b84845b4d53",
    "collapsed": false,
    "jupyter": {
     "outputs_hidden": false
    },
    "papermill": {
     "duration": 0.006009,
     "end_time": "2025-02-01T15:25:34.090994",
     "exception": false,
     "start_time": "2025-02-01T15:25:34.084985",
     "status": "completed"
    },
    "tags": []
   },
   "source": [
    "Convolutional Neural Networks (CNNs) expect a 4D tensor as input because they process images with multiple dimensions:\n",
    "\n",
    "- Number of samples (batch size): The total number of images.\n",
    "- Height: The height (vertical size) of each image.\n",
    "- Width: The width (horizontal size) of each image.\n",
    "- Channels: The number of color channels (e.g., 1 for grayscale, 3 for RGB)."
   ]
  },
  {
   "cell_type": "code",
   "execution_count": null,
   "id": "e6944943",
   "metadata": {
    "_cell_guid": "e8d975a4-0679-4677-a700-3b07e46711e4",
    "_kg_hide-input": true,
    "_kg_hide-output": true,
    "_uuid": "aa0287a8-7eb7-402c-b8f5-def3de96e131",
    "collapsed": false,
    "execution": {
     "iopub.execute_input": "2025-02-01T15:25:34.104121Z",
     "iopub.status.busy": "2025-02-01T15:25:34.103871Z",
     "iopub.status.idle": "2025-02-01T15:25:34.108483Z",
     "shell.execute_reply": "2025-02-01T15:25:34.107544Z"
    },
    "jupyter": {
     "outputs_hidden": false
    },
    "papermill": {
     "duration": 0.012877,
     "end_time": "2025-02-01T15:25:34.109695",
     "exception": false,
     "start_time": "2025-02-01T15:25:34.096818",
     "status": "completed"
    },
    "tags": []
   },
   "outputs": [
    {
     "name": "stdout",
     "output_type": "stream",
     "text": [
      "x_train shape:  (42000, 28, 28, 1)\n",
      "test shape:  (28000, 28, 28, 1)\n"
     ]
    }
   ],
   "source": [
    "#reshaping\n",
    "x_train = x_train.values.reshape(-1,28,28,1)\n",
    "test = test.values.reshape(-1,28,28,1)\n",
    "print(\"x_train shape: \" , x_train.shape)\n",
    "print(\"test shape: \",test.shape)"
   ]
  },
  {
   "cell_type": "markdown",
   "id": "b2de1299",
   "metadata": {
    "_cell_guid": "2bb2df6b-9fee-4dc8-928f-729b22e4980a",
    "_uuid": "01a94fac-fa1e-4418-9cec-28e5cc5060e0",
    "collapsed": false,
    "jupyter": {
     "outputs_hidden": false
    },
    "papermill": {
     "duration": 0.006194,
     "end_time": "2025-02-01T15:25:34.122091",
     "exception": false,
     "start_time": "2025-02-01T15:25:34.115897",
     "status": "completed"
    },
    "tags": []
   },
   "source": [
    "## Prediction"
   ]
  },
  {
   "cell_type": "code",
   "execution_count": null,
   "id": "a5b4c76e",
   "metadata": {
    "_cell_guid": "2ae23fad-a648-4c3e-8925-933b1e663ac0",
    "_uuid": "6e454747-361c-4ea9-ad5a-62cf0aaa9863",
    "collapsed": false,
    "execution": {
     "iopub.execute_input": "2025-02-01T15:25:34.136475Z",
     "iopub.status.busy": "2025-02-01T15:25:34.136225Z",
     "iopub.status.idle": "2025-02-01T15:25:34.885835Z",
     "shell.execute_reply": "2025-02-01T15:25:34.885109Z"
    },
    "jupyter": {
     "outputs_hidden": false
    },
    "papermill": {
     "duration": 0.758452,
     "end_time": "2025-02-01T15:25:34.887440",
     "exception": false,
     "start_time": "2025-02-01T15:25:34.128988",
     "status": "completed"
    },
    "tags": []
   },
   "outputs": [],
   "source": [
    "#split train data\n",
    "from sklearn.model_selection import train_test_split\n",
    "x_train , x_val , y_train , y_val = train_test_split(x_train , y_train , test_size = 0.1 , random_state = 2)"
   ]
  },
  {
   "cell_type": "code",
   "execution_count": null,
   "id": "e3bb3e02",
   "metadata": {
    "_cell_guid": "34e1937a-61d9-4a37-95c2-36e2ca9ff47f",
    "_uuid": "d32e63d5-a856-4381-98d4-22d9aaa6d5b6",
    "collapsed": false,
    "execution": {
     "iopub.execute_input": "2025-02-01T15:25:34.900842Z",
     "iopub.status.busy": "2025-02-01T15:25:34.900577Z",
     "iopub.status.idle": "2025-02-01T15:25:38.673072Z",
     "shell.execute_reply": "2025-02-01T15:25:38.672359Z"
    },
    "jupyter": {
     "outputs_hidden": false
    },
    "papermill": {
     "duration": 3.780664,
     "end_time": "2025-02-01T15:25:38.674707",
     "exception": false,
     "start_time": "2025-02-01T15:25:34.894043",
     "status": "completed"
    },
    "tags": []
   },
   "outputs": [],
   "source": [
    "from tensorflow.keras.layers import Dense , Conv2D , MaxPool2D , Dropout , Flatten\n",
    "from tensorflow.keras.models import Sequential\n",
    "from tensorflow.keras.optimizers import Adam\n",
    "from tensorflow.keras.preprocessing.image import ImageDataGenerator\n",
    "\n",
    "model = Sequential()\n",
    "\n",
    "model.add(Conv2D(activation = \"relu\",input_shape = (28,28,1),kernel_size = (5,5) , filters = 8 , padding = \"same\"))\n",
    "model.add(MaxPool2D(pool_size = (2,2)))\n",
    "model.add(Conv2D(padding = \"same\",activation = \"relu\",filters = 32 , kernel_size = (5,5)))\n",
    "model.add(MaxPool2D(pool_size= (2,2)))\n",
    "model.add(Conv2D(activation = \"relu\",padding = \"same\"  , filters = 64, kernel_size = (4,4)))\n",
    "model.add(MaxPool2D(pool_size= (2,2),strides = (2,2)))\n",
    "model.add(Conv2D(activation = \"relu\",padding = \"same\"  , filters = 256, kernel_size = (3,3)))\n",
    "#model.add(MaxPool2D(pool_size= (3,3)))\n",
    "model.add(Flatten())\n",
    "model.add(Dense(activation = \"relu\" , units = 128))\n",
    "model.add(Dropout(0.5))\n",
    "model.add(Dense(activation = \"softmax\" , units = 10))"
   ]
  },
  {
   "cell_type": "code",
   "execution_count": null,
   "id": "9addca4a",
   "metadata": {
    "_cell_guid": "ea18600c-52b1-405c-8538-8a9eca18a7ab",
    "_uuid": "b7d08f9f-6ffd-4b82-b88c-5f722deed16e",
    "collapsed": false,
    "execution": {
     "iopub.execute_input": "2025-02-01T15:25:38.688419Z",
     "iopub.status.busy": "2025-02-01T15:25:38.688135Z",
     "iopub.status.idle": "2025-02-01T15:25:38.698623Z",
     "shell.execute_reply": "2025-02-01T15:25:38.698002Z"
    },
    "jupyter": {
     "outputs_hidden": false
    },
    "papermill": {
     "duration": 0.018299,
     "end_time": "2025-02-01T15:25:38.699824",
     "exception": false,
     "start_time": "2025-02-01T15:25:38.681525",
     "status": "completed"
    },
    "tags": []
   },
   "outputs": [],
   "source": [
    "adamoptimizer = Adam(learning_rate = 0.001,beta_1 = 0.9 , beta_2 = 0.999)\n",
    "model.compile(optimizer = adamoptimizer , loss = \"categorical_crossentropy\" , metrics = [\"accuracy\"])"
   ]
  },
  {
   "cell_type": "code",
   "execution_count": null,
   "id": "5aed9898",
   "metadata": {
    "_cell_guid": "1c8ea897-b0fc-44d1-b495-070b64023617",
    "_uuid": "68873b20-ca6d-4e5c-94ae-1c66364724e3",
    "collapsed": false,
    "execution": {
     "iopub.execute_input": "2025-02-01T15:25:38.712618Z",
     "iopub.status.busy": "2025-02-01T15:25:38.712382Z",
     "iopub.status.idle": "2025-02-01T15:25:38.715457Z",
     "shell.execute_reply": "2025-02-01T15:25:38.714775Z"
    },
    "jupyter": {
     "outputs_hidden": false
    },
    "papermill": {
     "duration": 0.010851,
     "end_time": "2025-02-01T15:25:38.716706",
     "exception": false,
     "start_time": "2025-02-01T15:25:38.705855",
     "status": "completed"
    },
    "tags": []
   },
   "outputs": [],
   "source": [
    "datagen = ImageDataGenerator(\n",
    "    rotation_range = 30,\n",
    "    width_shift_range = 0.2,\n",
    "    height_shift_range = 0.2,\n",
    "    shear_range = 0.3,\n",
    "    zoom_range = 0.2\n",
    "    )"
   ]
  },
  {
   "cell_type": "code",
   "execution_count": null,
   "id": "2327946c",
   "metadata": {
    "execution": {
     "iopub.execute_input": "2025-02-01T15:25:38.729417Z",
     "iopub.status.busy": "2025-02-01T15:25:38.729160Z",
     "iopub.status.idle": "2025-02-01T15:25:38.733618Z",
     "shell.execute_reply": "2025-02-01T15:25:38.732915Z"
    },
    "papermill": {
     "duration": 0.012092,
     "end_time": "2025-02-01T15:25:38.734778",
     "exception": false,
     "start_time": "2025-02-01T15:25:38.722686",
     "status": "completed"
    },
    "tags": []
   },
   "outputs": [
    {
     "data": {
      "text/plain": [
       "(4200, 28, 28, 1)"
      ]
     },
     "execution_count": 15,
     "metadata": {},
     "output_type": "execute_result"
    }
   ],
   "source": [
    "x_val.shape"
   ]
  },
  {
   "cell_type": "code",
   "execution_count": null,
   "id": "bff52fd2",
   "metadata": {
    "_cell_guid": "eed234e2-f614-4c5c-943a-022693a70fe0",
    "_uuid": "df718ba3-17bf-4877-a0d6-f96ce39ee45e",
    "collapsed": false,
    "execution": {
     "iopub.execute_input": "2025-02-01T15:25:38.747792Z",
     "iopub.status.busy": "2025-02-01T15:25:38.747569Z",
     "iopub.status.idle": "2025-02-01T15:27:45.815100Z",
     "shell.execute_reply": "2025-02-01T15:27:45.814404Z"
    },
    "jupyter": {
     "outputs_hidden": false
    },
    "papermill": {
     "duration": 127.075674,
     "end_time": "2025-02-01T15:27:45.816664",
     "exception": false,
     "start_time": "2025-02-01T15:25:38.740990",
     "status": "completed"
    },
    "tags": []
   },
   "outputs": [
    {
     "name": "stdout",
     "output_type": "stream",
     "text": [
      "Epoch 1/20\n",
      "\u001b[1m151/151\u001b[0m \u001b[32m━━━━━━━━━━━━━━━━━━━━\u001b[0m\u001b[37m\u001b[0m \u001b[1m23s\u001b[0m 102ms/step - accuracy: 0.3594 - loss: 1.7897 - val_accuracy: 0.9417 - val_loss: 0.1981\n",
      "Epoch 2/20\n",
      "\u001b[1m151/151\u001b[0m \u001b[32m━━━━━━━━━━━━━━━━━━━━\u001b[0m\u001b[37m\u001b[0m \u001b[1m0s\u001b[0m 1ms/step - accuracy: 0.7960 - loss: 0.6089 - val_accuracy: 0.9426 - val_loss: 0.2025\n",
      "Epoch 3/20\n",
      "\u001b[1m151/151\u001b[0m \u001b[32m━━━━━━━━━━━━━━━━━━━━\u001b[0m\u001b[37m\u001b[0m \u001b[1m11s\u001b[0m 72ms/step - accuracy: 0.8412 - loss: 0.5237 - val_accuracy: 0.9560 - val_loss: 0.1444\n",
      "Epoch 4/20\n",
      "\u001b[1m151/151\u001b[0m \u001b[32m━━━━━━━━━━━━━━━━━━━━\u001b[0m\u001b[37m\u001b[0m \u001b[1m0s\u001b[0m 1ms/step - accuracy: 0.9000 - loss: 0.3933 - val_accuracy: 0.9548 - val_loss: 0.1477\n",
      "Epoch 5/20\n",
      "\u001b[1m151/151\u001b[0m \u001b[32m━━━━━━━━━━━━━━━━━━━━\u001b[0m\u001b[37m\u001b[0m \u001b[1m11s\u001b[0m 72ms/step - accuracy: 0.8964 - loss: 0.3493 - val_accuracy: 0.9721 - val_loss: 0.0945\n",
      "Epoch 6/20\n",
      "\u001b[1m151/151\u001b[0m \u001b[32m━━━━━━━━━━━━━━━━━━━━\u001b[0m\u001b[37m\u001b[0m \u001b[1m0s\u001b[0m 1ms/step - accuracy: 0.9200 - loss: 0.2748 - val_accuracy: 0.9710 - val_loss: 0.1036\n",
      "Epoch 7/20\n",
      "\u001b[1m151/151\u001b[0m \u001b[32m━━━━━━━━━━━━━━━━━━━━\u001b[0m\u001b[37m\u001b[0m \u001b[1m11s\u001b[0m 72ms/step - accuracy: 0.9228 - loss: 0.2706 - val_accuracy: 0.9724 - val_loss: 0.0930\n",
      "Epoch 8/20\n",
      "\u001b[1m151/151\u001b[0m \u001b[32m━━━━━━━━━━━━━━━━━━━━\u001b[0m\u001b[37m\u001b[0m \u001b[1m0s\u001b[0m 1ms/step - accuracy: 0.9240 - loss: 0.1955 - val_accuracy: 0.9757 - val_loss: 0.0796\n",
      "Epoch 9/20\n",
      "\u001b[1m151/151\u001b[0m \u001b[32m━━━━━━━━━━━━━━━━━━━━\u001b[0m\u001b[37m\u001b[0m \u001b[1m11s\u001b[0m 73ms/step - accuracy: 0.9355 - loss: 0.2242 - val_accuracy: 0.9776 - val_loss: 0.0656\n",
      "Epoch 10/20\n",
      "\u001b[1m151/151\u001b[0m \u001b[32m━━━━━━━━━━━━━━━━━━━━\u001b[0m\u001b[37m\u001b[0m \u001b[1m0s\u001b[0m 1ms/step - accuracy: 0.9520 - loss: 0.1743 - val_accuracy: 0.9776 - val_loss: 0.0696\n",
      "Epoch 11/20\n",
      "\u001b[1m151/151\u001b[0m \u001b[32m━━━━━━━━━━━━━━━━━━━━\u001b[0m\u001b[37m\u001b[0m \u001b[1m11s\u001b[0m 71ms/step - accuracy: 0.9419 - loss: 0.2006 - val_accuracy: 0.9798 - val_loss: 0.0667\n",
      "Epoch 12/20\n",
      "\u001b[1m151/151\u001b[0m \u001b[32m━━━━━━━━━━━━━━━━━━━━\u001b[0m\u001b[37m\u001b[0m \u001b[1m0s\u001b[0m 1ms/step - accuracy: 0.9360 - loss: 0.1846 - val_accuracy: 0.9805 - val_loss: 0.0651\n",
      "Epoch 13/20\n",
      "\u001b[1m151/151\u001b[0m \u001b[32m━━━━━━━━━━━━━━━━━━━━\u001b[0m\u001b[37m\u001b[0m \u001b[1m11s\u001b[0m 72ms/step - accuracy: 0.9550 - loss: 0.1619 - val_accuracy: 0.9810 - val_loss: 0.0585\n",
      "Epoch 14/20\n",
      "\u001b[1m151/151\u001b[0m \u001b[32m━━━━━━━━━━━━━━━━━━━━\u001b[0m\u001b[37m\u001b[0m \u001b[1m0s\u001b[0m 1ms/step - accuracy: 0.9640 - loss: 0.0989 - val_accuracy: 0.9812 - val_loss: 0.0598\n",
      "Epoch 15/20\n",
      "\u001b[1m151/151\u001b[0m \u001b[32m━━━━━━━━━━━━━━━━━━━━\u001b[0m\u001b[37m\u001b[0m \u001b[1m11s\u001b[0m 70ms/step - accuracy: 0.9615 - loss: 0.1397 - val_accuracy: 0.9783 - val_loss: 0.0694\n",
      "Epoch 16/20\n",
      "\u001b[1m151/151\u001b[0m \u001b[32m━━━━━━━━━━━━━━━━━━━━\u001b[0m\u001b[37m\u001b[0m \u001b[1m0s\u001b[0m 1ms/step - accuracy: 0.9240 - loss: 0.2275 - val_accuracy: 0.9821 - val_loss: 0.0574\n",
      "Epoch 17/20\n",
      "\u001b[1m151/151\u001b[0m \u001b[32m━━━━━━━━━━━━━━━━━━━━\u001b[0m\u001b[37m\u001b[0m \u001b[1m11s\u001b[0m 71ms/step - accuracy: 0.9634 - loss: 0.1266 - val_accuracy: 0.9855 - val_loss: 0.0481\n",
      "Epoch 18/20\n",
      "\u001b[1m151/151\u001b[0m \u001b[32m━━━━━━━━━━━━━━━━━━━━\u001b[0m\u001b[37m\u001b[0m \u001b[1m0s\u001b[0m 2ms/step - accuracy: 0.9760 - loss: 0.1048 - val_accuracy: 0.9857 - val_loss: 0.0533\n",
      "Epoch 19/20\n",
      "\u001b[1m151/151\u001b[0m \u001b[32m━━━━━━━━━━━━━━━━━━━━\u001b[0m\u001b[37m\u001b[0m \u001b[1m11s\u001b[0m 71ms/step - accuracy: 0.9661 - loss: 0.1185 - val_accuracy: 0.9833 - val_loss: 0.0601\n",
      "Epoch 20/20\n",
      "\u001b[1m151/151\u001b[0m \u001b[32m━━━━━━━━━━━━━━━━━━━━\u001b[0m\u001b[37m\u001b[0m \u001b[1m0s\u001b[0m 1ms/step - accuracy: 0.9640 - loss: 0.1014 - val_accuracy: 0.9845 - val_loss: 0.0520\n"
     ]
    }
   ],
   "source": [
    "history = model.fit(datagen.flow(x_train , y_train , batch_size = 250) ,\n",
    "                    epochs = 20 , \n",
    "                    validation_data = (x_val , y_val),\n",
    "                    steps_per_epoch = x_train.shape[0] // 250\n",
    "                )"
   ]
  },
  {
   "cell_type": "code",
   "execution_count": null,
   "id": "946e9e41",
   "metadata": {
    "_cell_guid": "9b1141e2-d3d5-4027-abee-2e91bc2d23a4",
    "_uuid": "cc44c375-6eff-4d4c-9e4e-747c7a87403e",
    "collapsed": false,
    "execution": {
     "iopub.execute_input": "2025-02-01T15:27:45.968078Z",
     "iopub.status.busy": "2025-02-01T15:27:45.967825Z",
     "iopub.status.idle": "2025-02-01T15:27:45.972534Z",
     "shell.execute_reply": "2025-02-01T15:27:45.971865Z"
    },
    "jupyter": {
     "outputs_hidden": false
    },
    "papermill": {
     "duration": 0.081032,
     "end_time": "2025-02-01T15:27:45.973732",
     "exception": false,
     "start_time": "2025-02-01T15:27:45.892700",
     "status": "completed"
    },
    "tags": []
   },
   "outputs": [
    {
     "data": {
      "text/plain": [
       "[0.5635685920715332,\n",
       " 0.7960000038146973,\n",
       " 0.8596005439758301,\n",
       " 0.8999999761581421,\n",
       " 0.9068175554275513,\n",
       " 0.9200000166893005,\n",
       " 0.9266045093536377,\n",
       " 0.9240000247955322,\n",
       " 0.9396005272865295,\n",
       " 0.9520000219345093,\n",
       " 0.9460719227790833,\n",
       " 0.9359999895095825,\n",
       " 0.9556325078010559,\n",
       " 0.9639999866485596,\n",
       " 0.9594407677650452,\n",
       " 0.9240000247955322,\n",
       " 0.9625299572944641,\n",
       " 0.9760000109672546,\n",
       " 0.966444730758667,\n",
       " 0.9639999866485596]"
      ]
     },
     "execution_count": 17,
     "metadata": {},
     "output_type": "execute_result"
    }
   ],
   "source": [
    "history.history[\"accuracy\"]"
   ]
  },
  {
   "cell_type": "code",
   "execution_count": null,
   "id": "4c5f07bd",
   "metadata": {
    "execution": {
     "iopub.execute_input": "2025-02-01T15:27:46.164522Z",
     "iopub.status.busy": "2025-02-01T15:27:46.164229Z",
     "iopub.status.idle": "2025-02-01T15:27:47.020091Z",
     "shell.execute_reply": "2025-02-01T15:27:47.019217Z"
    },
    "papermill": {
     "duration": 0.971006,
     "end_time": "2025-02-01T15:27:47.021518",
     "exception": false,
     "start_time": "2025-02-01T15:27:46.050512",
     "status": "completed"
    },
    "tags": []
   },
   "outputs": [
    {
     "name": "stdout",
     "output_type": "stream",
     "text": [
      "\u001b[1m132/132\u001b[0m \u001b[32m━━━━━━━━━━━━━━━━━━━━\u001b[0m\u001b[37m\u001b[0m \u001b[1m1s\u001b[0m 3ms/step\n"
     ]
    }
   ],
   "source": [
    "#prediction with validation data\n",
    "predictions = model.predict(x_val)\n"
   ]
  },
  {
   "cell_type": "code",
   "execution_count": null,
   "id": "ed4ecdfc",
   "metadata": {
    "execution": {
     "iopub.execute_input": "2025-02-01T15:27:47.173119Z",
     "iopub.status.busy": "2025-02-01T15:27:47.172842Z",
     "iopub.status.idle": "2025-02-01T15:27:47.181230Z",
     "shell.execute_reply": "2025-02-01T15:27:47.180589Z"
    },
    "papermill": {
     "duration": 0.085083,
     "end_time": "2025-02-01T15:27:47.182618",
     "exception": false,
     "start_time": "2025-02-01T15:27:47.097535",
     "status": "completed"
    },
    "tags": []
   },
   "outputs": [],
   "source": [
    "#converting\n",
    "predictions = [i.argmax() for i in predictions]\n",
    "y_val_not_categorical = [i.argmax() for i in y_val]"
   ]
  },
  {
   "cell_type": "code",
   "execution_count": null,
   "id": "9caf4967",
   "metadata": {
    "execution": {
     "iopub.execute_input": "2025-02-01T15:27:47.339019Z",
     "iopub.status.busy": "2025-02-01T15:27:47.338702Z",
     "iopub.status.idle": "2025-02-01T15:27:47.343769Z",
     "shell.execute_reply": "2025-02-01T15:27:47.342927Z"
    },
    "papermill": {
     "duration": 0.085462,
     "end_time": "2025-02-01T15:27:47.344963",
     "exception": false,
     "start_time": "2025-02-01T15:27:47.259501",
     "status": "completed"
    },
    "tags": []
   },
   "outputs": [],
   "source": [
    "wrongpredictionindexes = []\n",
    "truepredictionindexes = []\n",
    "for i in range(0,len(y_val_not_categorical)):\n",
    "    if(predictions[i] == y_val_not_categorical[i]):\n",
    "        truepredictionindexes.append(i)\n",
    "    else:\n",
    "        wrongpredictionindexes.append(i)\n",
    "        "
   ]
  },
  {
   "cell_type": "code",
   "execution_count": null,
   "id": "2e00f93c",
   "metadata": {
    "execution": {
     "iopub.execute_input": "2025-02-01T15:27:47.496682Z",
     "iopub.status.busy": "2025-02-01T15:27:47.496389Z",
     "iopub.status.idle": "2025-02-01T15:27:48.139947Z",
     "shell.execute_reply": "2025-02-01T15:27:48.139046Z"
    },
    "papermill": {
     "duration": 0.720009,
     "end_time": "2025-02-01T15:27:48.141237",
     "exception": false,
     "start_time": "2025-02-01T15:27:47.421228",
     "status": "completed"
    },
    "tags": []
   },
   "outputs": [
    {
     "data": {
      "image/png": "[encoded data removed]",
      "text/plain": [
       "<Figure size 1000x1000 with 9 Axes>"
      ]
     },
     "metadata": {},
     "output_type": "display_data"
    }
   ],
   "source": [
    "#some wrong predicted images\n",
    "j=1\n",
    "plt.figure(figsize=(10,10))\n",
    "for i in wrongpredictionindexes[10:19]:\n",
    "    plt.subplot(3,3,j)\n",
    "    plt.imshow(x_val[i],cmap = \"gray\")\n",
    "    plt.title(f\"real value : {y_val_not_categorical[i]} predicted : {predictions[i]}\")\n",
    "    plt.axis(\"off\")\n",
    "    j+=1\n",
    "plt.tight_layout()\n",
    "plt.show()"
   ]
  },
  {
   "cell_type": "code",
   "execution_count": null,
   "id": "1451bfa2",
   "metadata": {
    "execution": {
     "iopub.execute_input": "2025-02-01T15:27:48.294123Z",
     "iopub.status.busy": "2025-02-01T15:27:48.293884Z",
     "iopub.status.idle": "2025-02-01T15:27:48.500314Z",
     "shell.execute_reply": "2025-02-01T15:27:48.499547Z"
    },
    "papermill": {
     "duration": 0.283102,
     "end_time": "2025-02-01T15:27:48.501729",
     "exception": false,
     "start_time": "2025-02-01T15:27:48.218627",
     "status": "completed"
    },
    "tags": []
   },
   "outputs": [
    {
     "data": {
      "image/png": "[encoded data removed]",
      "text/plain": [
       "<Figure size 1500x500 with 1 Axes>"
      ]
     },
     "metadata": {},
     "output_type": "display_data"
    }
   ],
   "source": [
    "#Train and validation accuracy change graph\n",
    "train_acc = history.history[\"accuracy\"]\n",
    "val_acc = history.history[\"val_accuracy\"]\n",
    "plt.figure(figsize=(15, 5), facecolor='lightgray')\n",
    "sns.lineplot(train_acc , label = \"train accuracy\")\n",
    "sns.lineplot(val_acc , color = \"orange\" , label = \"validation accuracy\")\n",
    "plt.grid(True)\n",
    "plt.legend()\n",
    "plt.show()\n"
   ]
  },
  {
   "cell_type": "code",
   "execution_count": null,
   "id": "f87889a8",
   "metadata": {
    "execution": {
     "iopub.execute_input": "2025-02-01T15:27:48.655502Z",
     "iopub.status.busy": "2025-02-01T15:27:48.655254Z",
     "iopub.status.idle": "2025-02-01T15:27:50.468922Z",
     "shell.execute_reply": "2025-02-01T15:27:50.468260Z"
    },
    "papermill": {
     "duration": 1.891768,
     "end_time": "2025-02-01T15:27:50.470534",
     "exception": false,
     "start_time": "2025-02-01T15:27:48.578766",
     "status": "completed"
    },
    "tags": []
   },
   "outputs": [
    {
     "name": "stdout",
     "output_type": "stream",
     "text": [
      "\u001b[1m875/875\u001b[0m \u001b[32m━━━━━━━━━━━━━━━━━━━━\u001b[0m\u001b[37m\u001b[0m \u001b[1m1s\u001b[0m 1ms/step\n"
     ]
    }
   ],
   "source": [
    "#prediction with test data\n",
    "test_predictions = [i.argmax() for i in model.predict(test)]"
   ]
  },
  {
   "cell_type": "code",
   "execution_count": null,
   "id": "47690dcb",
   "metadata": {
    "execution": {
     "iopub.execute_input": "2025-02-01T15:27:50.629296Z",
     "iopub.status.busy": "2025-02-01T15:27:50.628987Z",
     "iopub.status.idle": "2025-02-01T15:27:50.717340Z",
     "shell.execute_reply": "2025-02-01T15:27:50.716717Z"
    },
    "papermill": {
     "duration": 0.167069,
     "end_time": "2025-02-01T15:27:50.718721",
     "exception": false,
     "start_time": "2025-02-01T15:27:50.551652",
     "status": "completed"
    },
    "tags": []
   },
   "outputs": [],
   "source": [
    "sample_submission = pd.read_csv(\"/kaggle/input/digit-recognizer/sample_submission.csv\")\n",
    "sample_submission[\"Label\"] = test_predictions\n",
    "sample_submission.to_csv(\"submission.csv\" , index = False)"
   ]
  },
  {
   "cell_type": "markdown",
   "id": "383e8ca7",
   "metadata": {
    "papermill": {
     "duration": 0.076543,
     "end_time": "2025-02-01T15:27:50.873383",
     "exception": false,
     "start_time": "2025-02-01T15:27:50.796840",
     "status": "completed"
    },
    "tags": []
   },
   "source": [
    "<div style=\"border: 3px solid #4CAF50; padding: 15px; border-radius: 10px; background-color: #E8F5E9; text-align: center; font-size: 18px;\">\n",
    "    🎉 <b>That’s a wrap! 🚀</b> <br>  \n",
    "    🔍 Keep exploring, keep learning, and keep innovating! 💡 <br>  \n",
    "    📢 Have thoughts or feedback? Drop a comment below! 💬 <br>  \n",
    "    🌟 Wishing you success on your Kaggle journey! ✨  \n",
    "</div>\n"
   ]
  }
 ],
 "metadata": {
  "kaggle": {
   "accelerator": "nvidiaTeslaT4",
   "dataSources": [
    {
     "databundleVersionId": 861823,
     "sourceId": 3004,
     "sourceType": "competition"
    }
   ],
   "dockerImageVersionId": 30839,
   "isGpuEnabled": true,
   "isInternetEnabled": true,
   "language": "python",
   "sourceType": "notebook"
  },
  "kernelspec": {
   "display_name": "Python 3",
   "language": "python",
   "name": "python3"
  },
  "language_info": {
   "codemirror_mode": {
    "name": "ipython",
    "version": 3
   },
   "file_extension": ".py",
   "mimetype": "text/x-python",
   "name": "python",
   "nbconvert_exporter": "python",
   "pygments_lexer": "ipython3",
   "version": "3.12.4"
  },
  "papermill": {
   "default_parameters": {},
   "duration": 169.346132,
   "end_time": "2025-02-01T15:27:53.759721",
   "environment_variables": {},
   "exception": null,
   "input_path": "__notebook__.ipynb",
   "output_path": "__notebook__.ipynb",
   "parameters": {},
   "start_time": "2025-02-01T15:25:04.413589",
   "version": "2.6.0"
  }
 },
 "nbformat": 4,
 "nbformat_minor": 5
}
